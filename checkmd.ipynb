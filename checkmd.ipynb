{
 "cells": [
  {
   "attachments": {},
   "cell_type": "markdown",
   "metadata": {},
   "source": [
    "# Example to check if the markdown of the Notebook is ok"
   ]
  },
  {
   "attachments": {},
   "cell_type": "markdown",
   "metadata": {},
   "source": [
    "## Introduction"
   ]
  },
  {
   "attachments": {},
   "cell_type": "markdown",
   "metadata": {},
   "source": [
    "You cannot put a title in the middle of a Markdown Cell\n",
    "\n",
    "## this is not correct"
   ]
  },
  {
   "cell_type": "code",
   "execution_count": 1,
   "metadata": {
    "execution": {
     "iopub.execute_input": "2024-06-22T09:19:42.295436Z",
     "iopub.status.busy": "2024-06-22T09:19:42.295019Z",
     "iopub.status.idle": "2024-06-22T09:19:42.300902Z",
     "shell.execute_reply": "2024-06-22T09:19:42.300360Z"
    }
   },
   "outputs": [
    {
     "name": "stdout",
     "output_type": "stream",
     "text": [
      "Hello world\n"
     ]
    }
   ],
   "source": [
    "print(\"Hello world\")"
   ]
  }
 ],
 "metadata": {
  "kernelspec": {
   "display_name": "Python 3",
   "language": "python",
   "name": "python3"
  },
  "language_info": {
   "codemirror_mode": {
    "name": "ipython",
    "version": 3
   },
   "file_extension": ".py",
   "mimetype": "text/x-python",
   "name": "python",
   "nbconvert_exporter": "python",
   "pygments_lexer": "ipython3",
   "version": "3.10.12"
  },
  "vscode": {
   "interpreter": {
    "hash": "6bc4ce9437654cbf95ca90c95eaef0ce69b404b5f102cb526cf827acb9c575c4"
   }
  }
 },
 "nbformat": 4,
 "nbformat_minor": 2
}
