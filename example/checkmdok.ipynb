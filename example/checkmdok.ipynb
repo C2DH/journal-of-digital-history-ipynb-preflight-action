{
 "cells": [
  {
   "attachments": {},
   "cell_type": "markdown",
   "metadata": {},
   "source": [
    "# Example to check if the markdown of the Notebook is ok"
   ]
  },
  {
   "attachments": {},
   "cell_type": "markdown",
   "metadata": {},
   "source": [
    "## Introduction"
   ]
  },
  {
   "attachments": {},
   "cell_type": "markdown",
   "metadata": {},
   "source": [
    "## this is correct"
   ]
  }
 ],
 "metadata": {
  "kernelspec": {
   "display_name": "Python 3",
   "language": "python",
   "name": "python3"
  },
  "language_info": {
   "name": "python",
   "version": "3.10.5"
  },
  "orig_nbformat": 4,
  "vscode": {
   "interpreter": {
    "hash": "6bc4ce9437654cbf95ca90c95eaef0ce69b404b5f102cb526cf827acb9c575c4"
   }
  }
 },
 "nbformat": 4,
 "nbformat_minor": 2
}
